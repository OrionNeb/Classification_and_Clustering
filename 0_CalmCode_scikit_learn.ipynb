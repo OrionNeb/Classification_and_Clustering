{
  "cells": [
    {
      "cell_type": "code",
      "execution_count": null,
      "id": "greatest-toilet",
      "metadata": {
        "colab": {
          "base_uri": "https://localhost:8080/",
          "height": 1000
        },
        "id": "greatest-toilet",
        "outputId": "dacd6b0f-347b-40f5-e29f-56dc8ee7b184"
      },
      "outputs": [
        {
          "output_type": "error",
          "ename": "ImportError",
          "evalue": "\n`load_boston` has been removed from scikit-learn since version 1.2.\n\nThe Boston housing prices dataset has an ethical problem: as\ninvestigated in [1], the authors of this dataset engineered a\nnon-invertible variable \"B\" assuming that racial self-segregation had a\npositive impact on house prices [2]. Furthermore the goal of the\nresearch that led to the creation of this dataset was to study the\nimpact of air quality but it did not give adequate demonstration of the\nvalidity of this assumption.\n\nThe scikit-learn maintainers therefore strongly discourage the use of\nthis dataset unless the purpose of the code is to study and educate\nabout ethical issues in data science and machine learning.\n\nIn this special case, you can fetch the dataset from the original\nsource::\n\n    import pandas as pd\n    import numpy as np\n\n    data_url = \"http://lib.stat.cmu.edu/datasets/boston\"\n    raw_df = pd.read_csv(data_url, sep=\"\\s+\", skiprows=22, header=None)\n    data = np.hstack([raw_df.values[::2, :], raw_df.values[1::2, :2]])\n    target = raw_df.values[1::2, 2]\n\nAlternative datasets include the California housing dataset and the\nAmes housing dataset. You can load the datasets as follows::\n\n    from sklearn.datasets import fetch_california_housing\n    housing = fetch_california_housing()\n\nfor the California housing dataset and::\n\n    from sklearn.datasets import fetch_openml\n    housing = fetch_openml(name=\"house_prices\", as_frame=True)\n\nfor the Ames housing dataset.\n\n[1] M Carlisle.\n\"Racist data destruction?\"\n<https://medium.com/@docintangible/racist-data-destruction-113e3eff54a8>\n\n[2] Harrison Jr, David, and Daniel L. Rubinfeld.\n\"Hedonic housing prices and the demand for clean air.\"\nJournal of environmental economics and management 5.1 (1978): 81-102.\n<https://www.researchgate.net/publication/4974606_Hedonic_housing_prices_and_the_demand_for_clean_air>\n",
          "traceback": [
            "\u001b[0;31m---------------------------------------------------------------------------\u001b[0m",
            "\u001b[0;31mImportError\u001b[0m                               Traceback (most recent call last)",
            "\u001b[0;32m<ipython-input-9-ce1249e43216>\u001b[0m in \u001b[0;36m<cell line: 0>\u001b[0;34m()\u001b[0m\n\u001b[0;32m----> 1\u001b[0;31m \u001b[0;32mfrom\u001b[0m \u001b[0msklearn\u001b[0m\u001b[0;34m.\u001b[0m\u001b[0mdatasets\u001b[0m \u001b[0;32mimport\u001b[0m \u001b[0mload_boston\u001b[0m\u001b[0;34m\u001b[0m\u001b[0;34m\u001b[0m\u001b[0m\n\u001b[0m\u001b[1;32m      2\u001b[0m \u001b[0mX\u001b[0m\u001b[0;34m,\u001b[0m \u001b[0my\u001b[0m \u001b[0;34m=\u001b[0m \u001b[0mload_boston\u001b[0m\u001b[0;34m(\u001b[0m\u001b[0mreturn_X_y\u001b[0m\u001b[0;34m=\u001b[0m\u001b[0;32mTrue\u001b[0m\u001b[0;34m)\u001b[0m\u001b[0;34m\u001b[0m\u001b[0;34m\u001b[0m\u001b[0m\n",
            "\u001b[0;32m/usr/local/lib/python3.11/dist-packages/sklearn/datasets/__init__.py\u001b[0m in \u001b[0;36m__getattr__\u001b[0;34m(name)\u001b[0m\n\u001b[1;32m    159\u001b[0m             \"\"\"\n\u001b[1;32m    160\u001b[0m         )\n\u001b[0;32m--> 161\u001b[0;31m         \u001b[0;32mraise\u001b[0m \u001b[0mImportError\u001b[0m\u001b[0;34m(\u001b[0m\u001b[0mmsg\u001b[0m\u001b[0;34m)\u001b[0m\u001b[0;34m\u001b[0m\u001b[0;34m\u001b[0m\u001b[0m\n\u001b[0m\u001b[1;32m    162\u001b[0m     \u001b[0;32mtry\u001b[0m\u001b[0;34m:\u001b[0m\u001b[0;34m\u001b[0m\u001b[0;34m\u001b[0m\u001b[0m\n\u001b[1;32m    163\u001b[0m         \u001b[0;32mreturn\u001b[0m \u001b[0mglobals\u001b[0m\u001b[0;34m(\u001b[0m\u001b[0;34m)\u001b[0m\u001b[0;34m[\u001b[0m\u001b[0mname\u001b[0m\u001b[0;34m]\u001b[0m\u001b[0;34m\u001b[0m\u001b[0;34m\u001b[0m\u001b[0m\n",
            "\u001b[0;31mImportError\u001b[0m: \n`load_boston` has been removed from scikit-learn since version 1.2.\n\nThe Boston housing prices dataset has an ethical problem: as\ninvestigated in [1], the authors of this dataset engineered a\nnon-invertible variable \"B\" assuming that racial self-segregation had a\npositive impact on house prices [2]. Furthermore the goal of the\nresearch that led to the creation of this dataset was to study the\nimpact of air quality but it did not give adequate demonstration of the\nvalidity of this assumption.\n\nThe scikit-learn maintainers therefore strongly discourage the use of\nthis dataset unless the purpose of the code is to study and educate\nabout ethical issues in data science and machine learning.\n\nIn this special case, you can fetch the dataset from the original\nsource::\n\n    import pandas as pd\n    import numpy as np\n\n    data_url = \"http://lib.stat.cmu.edu/datasets/boston\"\n    raw_df = pd.read_csv(data_url, sep=\"\\s+\", skiprows=22, header=None)\n    data = np.hstack([raw_df.values[::2, :], raw_df.values[1::2, :2]])\n    target = raw_df.values[1::2, 2]\n\nAlternative datasets include the California housing dataset and the\nAmes housing dataset. You can load the datasets as follows::\n\n    from sklearn.datasets import fetch_california_housing\n    housing = fetch_california_housing()\n\nfor the California housing dataset and::\n\n    from sklearn.datasets import fetch_openml\n    housing = fetch_openml(name=\"house_prices\", as_frame=True)\n\nfor the Ames housing dataset.\n\n[1] M Carlisle.\n\"Racist data destruction?\"\n<https://medium.com/@docintangible/racist-data-destruction-113e3eff54a8>\n\n[2] Harrison Jr, David, and Daniel L. Rubinfeld.\n\"Hedonic housing prices and the demand for clean air.\"\nJournal of environmental economics and management 5.1 (1978): 81-102.\n<https://www.researchgate.net/publication/4974606_Hedonic_housing_prices_and_the_demand_for_clean_air>\n",
            "",
            "\u001b[0;31m---------------------------------------------------------------------------\u001b[0;32m\nNOTE: If your import is failing due to a missing package, you can\nmanually install dependencies using either !pip or !apt.\n\nTo view examples of installing some common dependencies, click the\n\"Open Examples\" button below.\n\u001b[0;31m---------------------------------------------------------------------------\u001b[0m\n"
          ],
          "errorDetails": {
            "actions": [
              {
                "action": "open_url",
                "actionText": "Open Examples",
                "url": "/notebooks/snippets/importing_libraries.ipynb"
              }
            ]
          }
        }
      ],
      "source": [
        "# Bei diesem Code kommt ein Fehler, der Datensatz steht nicht mehr über scikit-learn zur Verfügung\n",
        "from sklearn.datasets import load_boston\n",
        "X, y = load_boston(return_X_y=True)"
      ]
    },
    {
      "cell_type": "code",
      "execution_count": null,
      "id": "173819fe",
      "metadata": {
        "id": "173819fe"
      },
      "outputs": [],
      "source": [
        "# Der Datensatz wird manuell heruntergeladen, wie in der Fehlermeldung beschrieben\n",
        "import pandas as pd\n",
        "import numpy as np\n",
        "\n",
        "data_url = \"http://lib.stat.cmu.edu/datasets/boston\"\n",
        "raw_df = pd.read_csv(data_url, sep=\"\\s+\", skiprows=22, header=None)\n",
        "data = np.hstack([raw_df.values[::2, :], raw_df.values[1::2, :2]])\n",
        "target = raw_df.values[1::2, 2]"
      ]
    },
    {
      "cell_type": "markdown",
      "id": "cutting-marathon",
      "metadata": {
        "id": "cutting-marathon"
      },
      "source": [
        "Next, we can apply models!"
      ]
    },
    {
      "cell_type": "code",
      "execution_count": null,
      "id": "vulnerable-adoption",
      "metadata": {
        "colab": {
          "base_uri": "https://localhost:8080/"
        },
        "id": "vulnerable-adoption",
        "outputId": "738aee87-814d-4ab8-e3fa-2205ad5a1b8d"
      },
      "outputs": [
        {
          "output_type": "execute_result",
          "data": {
            "text/plain": [
              "array([30.00384338, 25.02556238, 30.56759672])"
            ]
          },
          "metadata": {},
          "execution_count": 11
        }
      ],
      "source": [
        "from sklearn.neighbors import KNeighborsRegressor\n",
        "from sklearn.linear_model import LinearRegression\n",
        "\n",
        "#from sklearn.datasets import load_boston\n",
        "#X, y = load_boston(return_X_y=True)\n",
        "X = data\n",
        "y = target\n",
        "\n",
        "mod = LinearRegression()\n",
        "mod.fit(X, y)\n",
        "mod.predict(X)[:3]"
      ]
    },
    {
      "cell_type": "code",
      "execution_count": null,
      "id": "indonesian-context",
      "metadata": {
        "colab": {
          "base_uri": "https://localhost:8080/"
        },
        "id": "indonesian-context",
        "outputId": "40e89e0b-34a8-42a9-8024-c52d48c2794e"
      },
      "outputs": [
        {
          "output_type": "execute_result",
          "data": {
            "text/plain": [
              "array([21.78, 22.9 , 25.36])"
            ]
          },
          "metadata": {},
          "execution_count": 12
        }
      ],
      "source": [
        "mod = KNeighborsRegressor()\n",
        "mod.fit(X, y)\n",
        "mod.predict(X)[:3]"
      ]
    },
    {
      "cell_type": "markdown",
      "id": "beautiful-burns",
      "metadata": {
        "id": "beautiful-burns"
      },
      "source": [
        "Maybe we should inspect the results."
      ]
    },
    {
      "cell_type": "code",
      "execution_count": null,
      "id": "ceramic-static",
      "metadata": {
        "colab": {
          "base_uri": "https://localhost:8080/",
          "height": 448
        },
        "id": "ceramic-static",
        "outputId": "7be5a5e5-ca19-4b94-95d7-a16eb8923bb0"
      },
      "outputs": [
        {
          "output_type": "execute_result",
          "data": {
            "text/plain": [
              "<matplotlib.collections.PathCollection at 0x79243cc034d0>"
            ]
          },
          "metadata": {},
          "execution_count": 13
        },
        {
          "output_type": "display_data",
          "data": {
            "text/plain": [
              "<Figure size 640x480 with 1 Axes>"
            ],
            "image/png": "[encoded data removed]"
          },
          "metadata": {}
        }
      ],
      "source": [
        "from sklearn.neighbors import KNeighborsRegressor\n",
        "import matplotlib.pylab as plt\n",
        "\n",
        "mod = KNeighborsRegressor().fit(X, y)\n",
        "pred = mod.predict(X)\n",
        "plt.scatter(pred, y)"
      ]
    },
    {
      "cell_type": "markdown",
      "id": "undefined-horizon",
      "metadata": {
        "id": "undefined-horizon"
      },
      "source": [
        "Let's put everything into a pipeline."
      ]
    },
    {
      "cell_type": "code",
      "execution_count": null,
      "id": "flying-composite",
      "metadata": {
        "colab": {
          "base_uri": "https://localhost:8080/",
          "height": 448
        },
        "id": "flying-composite",
        "outputId": "38263bf9-3e25-441f-82e4-06387efac83f"
      },
      "outputs": [
        {
          "output_type": "execute_result",
          "data": {
            "text/plain": [
              "<matplotlib.collections.PathCollection at 0x79243cc5cad0>"
            ]
          },
          "metadata": {},
          "execution_count": 15
        },
        {
          "output_type": "display_data",
          "data": {
            "text/plain": [
              "<Figure size 640x480 with 1 Axes>"
            ],
            "image/png": "[encoded data removed]"
          },
          "metadata": {}
        }
      ],
      "source": [
        "from sklearn.preprocessing import StandardScaler\n",
        "from sklearn.pipeline import Pipeline\n",
        "\n",
        "pipe = Pipeline([\n",
        "    (\"scale\", StandardScaler()),\n",
        "    (\"model\", KNeighborsRegressor())\n",
        "])\n",
        "pred = pipe.fit(X, y).predict(X)\n",
        "plt.scatter(pred, y)"
      ]
    },
    {
      "cell_type": "markdown",
      "id": "french-inquiry",
      "metadata": {
        "id": "french-inquiry"
      },
      "source": [
        "Let's also apply some settings!"
      ]
    },
    {
      "cell_type": "code",
      "execution_count": null,
      "id": "outstanding-judgment",
      "metadata": {
        "colab": {
          "base_uri": "https://localhost:8080/",
          "height": 448
        },
        "id": "outstanding-judgment",
        "outputId": "b2635173-949f-4449-dfb5-2ac82094d99d"
      },
      "outputs": [
        {
          "output_type": "execute_result",
          "data": {
            "text/plain": [
              "<matplotlib.collections.PathCollection at 0x79243cc025d0>"
            ]
          },
          "metadata": {},
          "execution_count": 16
        },
        {
          "output_type": "display_data",
          "data": {
            "text/plain": [
              "<Figure size 640x480 with 1 Axes>"
            ],
            "image/png": "[encoded data removed]"
          },
          "metadata": {}
        }
      ],
      "source": [
        "\n",
        "\n",
        "# If n_neighbors = 1, we're totally cheating with the chart below.\n",
        "pipe = Pipeline([\n",
        "    (\"scale\", StandardScaler()),\n",
        "    (\"model\", KNeighborsRegressor(n_neighbors=1))\n",
        "])\n",
        "pred = pipe.fit(X, y).predict(X)\n",
        "plt.scatter(pred, y)"
      ]
    },
    {
      "cell_type": "markdown",
      "id": "paperback-banks",
      "metadata": {
        "id": "paperback-banks"
      },
      "source": [
        "Let's now use a gridsearch!"
      ]
    },
    {
      "cell_type": "code",
      "execution_count": null,
      "id": "sealed-abuse",
      "metadata": {
        "id": "sealed-abuse"
      },
      "outputs": [],
      "source": [
        "from sklearn.model_selection import GridSearchCV\n",
        "import pandas as pd\n",
        "\n",
        "mod = GridSearchCV(estimator=pipe,\n",
        "                 param_grid={\n",
        "                   'model__n_neighbors': [1, 2, 3, 4, 5, 6, 7, 8, 9, 10]\n",
        "                 },\n",
        "                 cv=3)\n",
        "mod.fit(X, y);"
      ]
    },
    {
      "cell_type": "code",
      "execution_count": null,
      "id": "scheduled-ranking",
      "metadata": {
        "colab": {
          "base_uri": "https://localhost:8080/",
          "height": 557
        },
        "id": "scheduled-ranking",
        "outputId": "dc14e0a0-5327-44c6-a974-b3f8b5bcaced"
      },
      "outputs": [
        {
          "output_type": "execute_result",
          "data": {
            "text/plain": [
              "   mean_fit_time  std_fit_time  mean_score_time  std_score_time  \\\n",
              "0       0.002420      0.000565         0.002666        0.000187   \n",
              "1       0.001874      0.000034         0.002625        0.000223   \n",
              "2       0.001835      0.000032         0.002775        0.000325   \n",
              "3       0.001855      0.000025         0.002720        0.000124   \n",
              "4       0.001940      0.000085         0.002777        0.000148   \n",
              "5       0.001927      0.000172         0.002773        0.000160   \n",
              "6       0.001848      0.000052         0.002879        0.000142   \n",
              "7       0.001814      0.000021         0.003095        0.000265   \n",
              "8       0.001816      0.000043         0.002840        0.000169   \n",
              "9       0.001842      0.000068         0.003154        0.000214   \n",
              "\n",
              "   param_model__n_neighbors                      params  split0_test_score  \\\n",
              "0                         1   {'model__n_neighbors': 1}           0.226933   \n",
              "1                         2   {'model__n_neighbors': 2}           0.358216   \n",
              "2                         3   {'model__n_neighbors': 3}           0.413515   \n",
              "3                         4   {'model__n_neighbors': 4}           0.475349   \n",
              "4                         5   {'model__n_neighbors': 5}           0.512318   \n",
              "5                         6   {'model__n_neighbors': 6}           0.533611   \n",
              "6                         7   {'model__n_neighbors': 7}           0.544782   \n",
              "7                         8   {'model__n_neighbors': 8}           0.589644   \n",
              "8                         9   {'model__n_neighbors': 9}           0.590352   \n",
              "9                        10  {'model__n_neighbors': 10}           0.616510   \n",
              "\n",
              "   split1_test_score  split2_test_score  mean_test_score  std_test_score  \\\n",
              "0           0.432998           0.127635         0.262522        0.127179   \n",
              "1           0.409229           0.172294         0.313246        0.101821   \n",
              "2           0.476651           0.318534         0.402900        0.064986   \n",
              "3           0.402495           0.273014         0.383619        0.083675   \n",
              "4           0.347951           0.262590         0.374286        0.103638   \n",
              "5           0.389504           0.248482         0.390532        0.116406   \n",
              "6           0.385199           0.243668         0.391216        0.123003   \n",
              "7           0.394650           0.209714         0.398003        0.155124   \n",
              "8           0.407556           0.185253         0.394387        0.165643   \n",
              "9           0.395077           0.164023         0.391870        0.184741   \n",
              "\n",
              "   rank_test_score  \n",
              "0               10  \n",
              "1                9  \n",
              "2                1  \n",
              "3                7  \n",
              "4                8  \n",
              "5                6  \n",
              "6                5  \n",
              "7                2  \n",
              "8                3  \n",
              "9                4  "
            ],
            "text/html": [
              "\n",
              "  <div id=\"df-75395ff8-b444-46a4-9ed0-08ee2c16260e\" class=\"colab-df-container\">\n",
              "    <div>\n",
              "<style scoped>\n",
              "    .dataframe tbody tr th:only-of-type {\n",
              "        vertical-align: middle;\n",
              "    }\n",
              "\n",
              "    .dataframe tbody tr th {\n",
              "        vertical-align: top;\n",
              "    }\n",
              "\n",
              "    .dataframe thead th {\n",
              "        text-align: right;\n",
              "    }\n",
              "</style>\n",
              "<table border=\"1\" class=\"dataframe\">\n",
              "  <thead>\n",
              "    <tr style=\"text-align: right;\">\n",
              "      <th></th>\n",
              "      <th>mean_fit_time</th>\n",
              "      <th>std_fit_time</th>\n",
              "      <th>mean_score_time</th>\n",
              "      <th>std_score_time</th>\n",
              "      <th>param_model__n_neighbors</th>\n",
              "      <th>params</th>\n",
              "      <th>split0_test_score</th>\n",
              "      <th>split1_test_score</th>\n",
              "      <th>split2_test_score</th>\n",
              "      <th>mean_test_score</th>\n",
              "      <th>std_test_score</th>\n",
              "      <th>rank_test_score</th>\n",
              "    </tr>\n",
              "  </thead>\n",
              "  <tbody>\n",
              "    <tr>\n",
              "      <th>0</th>\n",
              "      <td>0.002420</td>\n",
              "      <td>0.000565</td>\n",
              "      <td>0.002666</td>\n",
              "      <td>0.000187</td>\n",
              "      <td>1</td>\n",
              "      <td>{'model__n_neighbors': 1}</td>\n",
              "      <td>0.226933</td>\n",
              "      <td>0.432998</td>\n",
              "      <td>0.127635</td>\n",
              "      <td>0.262522</td>\n",
              "      <td>0.127179</td>\n",
              "      <td>10</td>\n",
              "    </tr>\n",
              "    <tr>\n",
              "      <th>1</th>\n",
              "      <td>0.001874</td>\n",
              "      <td>0.000034</td>\n",
              "      <td>0.002625</td>\n",
              "      <td>0.000223</td>\n",
              "      <td>2</td>\n",
              "      <td>{'model__n_neighbors': 2}</td>\n",
              "      <td>0.358216</td>\n",
              "      <td>0.409229</td>\n",
              "      <td>0.172294</td>\n",
              "      <td>0.313246</td>\n",
              "      <td>0.101821</td>\n",
              "      <td>9</td>\n",
              "    </tr>\n",
              "    <tr>\n",
              "      <th>2</th>\n",
              "      <td>0.001835</td>\n",
              "      <td>0.000032</td>\n",
              "      <td>0.002775</td>\n",
              "      <td>0.000325</td>\n",
              "      <td>3</td>\n",
              "      <td>{'model__n_neighbors': 3}</td>\n",
              "      <td>0.413515</td>\n",
              "      <td>0.476651</td>\n",
              "      <td>0.318534</td>\n",
              "      <td>0.402900</td>\n",
              "      <td>0.064986</td>\n",
              "      <td>1</td>\n",
              "    </tr>\n",
              "    <tr>\n",
              "      <th>3</th>\n",
              "      <td>0.001855</td>\n",
              "      <td>0.000025</td>\n",
              "      <td>0.002720</td>\n",
              "      <td>0.000124</td>\n",
              "      <td>4</td>\n",
              "      <td>{'model__n_neighbors': 4}</td>\n",
              "      <td>0.475349</td>\n",
              "      <td>0.402495</td>\n",
              "      <td>0.273014</td>\n",
              "      <td>0.383619</td>\n",
              "      <td>0.083675</td>\n",
              "      <td>7</td>\n",
              "    </tr>\n",
              "    <tr>\n",
              "      <th>4</th>\n",
              "      <td>0.001940</td>\n",
              "      <td>0.000085</td>\n",
              "      <td>0.002777</td>\n",
              "      <td>0.000148</td>\n",
              "      <td>5</td>\n",
              "      <td>{'model__n_neighbors': 5}</td>\n",
              "      <td>0.512318</td>\n",
              "      <td>0.347951</td>\n",
              "      <td>0.262590</td>\n",
              "      <td>0.374286</td>\n",
              "      <td>0.103638</td>\n",
              "      <td>8</td>\n",
              "    </tr>\n",
              "    <tr>\n",
              "      <th>5</th>\n",
              "      <td>0.001927</td>\n",
              "      <td>0.000172</td>\n",
              "      <td>0.002773</td>\n",
              "      <td>0.000160</td>\n",
              "      <td>6</td>\n",
              "      <td>{'model__n_neighbors': 6}</td>\n",
              "      <td>0.533611</td>\n",
              "      <td>0.389504</td>\n",
              "      <td>0.248482</td>\n",
              "      <td>0.390532</td>\n",
              "      <td>0.116406</td>\n",
              "      <td>6</td>\n",
              "    </tr>\n",
              "    <tr>\n",
              "      <th>6</th>\n",
              "      <td>0.001848</td>\n",
              "      <td>0.000052</td>\n",
              "      <td>0.002879</td>\n",
              "      <td>0.000142</td>\n",
              "      <td>7</td>\n",
              "      <td>{'model__n_neighbors': 7}</td>\n",
              "      <td>0.544782</td>\n",
              "      <td>0.385199</td>\n",
              "      <td>0.243668</td>\n",
              "      <td>0.391216</td>\n",
              "      <td>0.123003</td>\n",
              "      <td>5</td>\n",
              "    </tr>\n",
              "    <tr>\n",
              "      <th>7</th>\n",
              "      <td>0.001814</td>\n",
              "      <td>0.000021</td>\n",
              "      <td>0.003095</td>\n",
              "      <td>0.000265</td>\n",
              "      <td>8</td>\n",
              "      <td>{'model__n_neighbors': 8}</td>\n",
              "      <td>0.589644</td>\n",
              "      <td>0.394650</td>\n",
              "      <td>0.209714</td>\n",
              "      <td>0.398003</td>\n",
              "      <td>0.155124</td>\n",
              "      <td>2</td>\n",
              "    </tr>\n",
              "    <tr>\n",
              "      <th>8</th>\n",
              "      <td>0.001816</td>\n",
              "      <td>0.000043</td>\n",
              "      <td>0.002840</td>\n",
              "      <td>0.000169</td>\n",
              "      <td>9</td>\n",
              "      <td>{'model__n_neighbors': 9}</td>\n",
              "      <td>0.590352</td>\n",
              "      <td>0.407556</td>\n",
              "      <td>0.185253</td>\n",
              "      <td>0.394387</td>\n",
              "      <td>0.165643</td>\n",
              "      <td>3</td>\n",
              "    </tr>\n",
              "    <tr>\n",
              "      <th>9</th>\n",
              "      <td>0.001842</td>\n",
              "      <td>0.000068</td>\n",
              "      <td>0.003154</td>\n",
              "      <td>0.000214</td>\n",
              "      <td>10</td>\n",
              "      <td>{'model__n_neighbors': 10}</td>\n",
              "      <td>0.616510</td>\n",
              "      <td>0.395077</td>\n",
              "      <td>0.164023</td>\n",
              "      <td>0.391870</td>\n",
              "      <td>0.184741</td>\n",
              "      <td>4</td>\n",
              "    </tr>\n",
              "  </tbody>\n",
              "</table>\n",
              "</div>\n",
              "    <div class=\"colab-df-buttons\">\n",
              "\n",
              "  <div class=\"colab-df-container\">\n",
              "    <button class=\"colab-df-convert\" onclick=\"convertToInteractive('df-75395ff8-b444-46a4-9ed0-08ee2c16260e')\"\n",
              "            title=\"Convert this dataframe to an interactive table.\"\n",
              "            style=\"display:none;\">\n",
              "\n",
              "  <svg xmlns=\"http://www.w3.org/2000/svg\" height=\"24px\" viewBox=\"0 -960 960 960\">\n",
              "    <path d=\"M120-120v-720h720v720H120Zm60-500h600v-160H180v160Zm220 220h160v-160H400v160Zm0 220h160v-160H400v160ZM180-400h160v-160H180v160Zm440 0h160v-160H620v160ZM180-180h160v-160H180v160Zm440 0h160v-160H620v160Z\"/>\n",
              "  </svg>\n",
              "    </button>\n",
              "\n",
              "  <style>\n",
              "    .colab-df-container {\n",
              "      display:flex;\n",
              "      gap: 12px;\n",
              "    }\n",
              "\n",
              "    .colab-df-convert {\n",
              "      background-color: #E8F0FE;\n",
              "      border: none;\n",
              "      border-radius: 50%;\n",
              "      cursor: pointer;\n",
              "      display: none;\n",
              "      fill: #1967D2;\n",
              "      height: 32px;\n",
              "      padding: 0 0 0 0;\n",
              "      width: 32px;\n",
              "    }\n",
              "\n",
              "    .colab-df-convert:hover {\n",
              "      background-color: #E2EBFA;\n",
              "      box-shadow: 0px 1px 2px rgba(60, 64, 67, 0.3), 0px 1px 3px 1px rgba(60, 64, 67, 0.15);\n",
              "      fill: #174EA6;\n",
              "    }\n",
              "\n",
              "    .colab-df-buttons div {\n",
              "      margin-bottom: 4px;\n",
              "    }\n",
              "\n",
              "    [theme=dark] .colab-df-convert {\n",
              "      background-color: #3B4455;\n",
              "      fill: #D2E3FC;\n",
              "    }\n",
              "\n",
              "    [theme=dark] .colab-df-convert:hover {\n",
              "      background-color: #434B5C;\n",
              "      box-shadow: 0px 1px 3px 1px rgba(0, 0, 0, 0.15);\n",
              "      filter: drop-shadow(0px 1px 2px rgba(0, 0, 0, 0.3));\n",
              "      fill: #FFFFFF;\n",
              "    }\n",
              "  </style>\n",
              "\n",
              "    <script>\n",
              "      const buttonEl =\n",
              "        document.querySelector('#df-75395ff8-b444-46a4-9ed0-08ee2c16260e button.colab-df-convert');\n",
              "      buttonEl.style.display =\n",
              "        google.colab.kernel.accessAllowed ? 'block' : 'none';\n",
              "\n",
              "      async function convertToInteractive(key) {\n",
              "        const element = document.querySelector('#df-75395ff8-b444-46a4-9ed0-08ee2c16260e');\n",
              "        const dataTable =\n",
              "          await google.colab.kernel.invokeFunction('convertToInteractive',\n",
              "                                                    [key], {});\n",
              "        if (!dataTable) return;\n",
              "\n",
              "        const docLinkHtml = 'Like what you see? Visit the ' +\n",
              "          '<a target=\"_blank\" href=https://colab.research.google.com/notebooks/data_table.ipynb>data table notebook</a>'\n",
              "          + ' to learn more about interactive tables.';\n",
              "        element.innerHTML = '';\n",
              "        dataTable['output_type'] = 'display_data';\n",
              "        await google.colab.output.renderOutput(dataTable, element);\n",
              "        const docLink = document.createElement('div');\n",
              "        docLink.innerHTML = docLinkHtml;\n",
              "        element.appendChild(docLink);\n",
              "      }\n",
              "    </script>\n",
              "  </div>\n",
              "\n",
              "\n",
              "<div id=\"df-59c614a6-97e5-4f3b-9b1c-9a480634a5dd\">\n",
              "  <button class=\"colab-df-quickchart\" onclick=\"quickchart('df-59c614a6-97e5-4f3b-9b1c-9a480634a5dd')\"\n",
              "            title=\"Suggest charts\"\n",
              "            style=\"display:none;\">\n",
              "\n",
              "<svg xmlns=\"http://www.w3.org/2000/svg\" height=\"24px\"viewBox=\"0 0 24 24\"\n",
              "     width=\"24px\">\n",
              "    <g>\n",
              "        <path d=\"M19 3H5c-1.1 0-2 .9-2 2v14c0 1.1.9 2 2 2h14c1.1 0 2-.9 2-2V5c0-1.1-.9-2-2-2zM9 17H7v-7h2v7zm4 0h-2V7h2v10zm4 0h-2v-4h2v4z\"/>\n",
              "    </g>\n",
              "</svg>\n",
              "  </button>\n",
              "\n",
              "<style>\n",
              "  .colab-df-quickchart {\n",
              "      --bg-color: #E8F0FE;\n",
              "      --fill-color: #1967D2;\n",
              "      --hover-bg-color: #E2EBFA;\n",
              "      --hover-fill-color: #174EA6;\n",
              "      --disabled-fill-color: #AAA;\n",
              "      --disabled-bg-color: #DDD;\n",
              "  }\n",
              "\n",
              "  [theme=dark] .colab-df-quickchart {\n",
              "      --bg-color: #3B4455;\n",
              "      --fill-color: #D2E3FC;\n",
              "      --hover-bg-color: #434B5C;\n",
              "      --hover-fill-color: #FFFFFF;\n",
              "      --disabled-bg-color: #3B4455;\n",
              "      --disabled-fill-color: #666;\n",
              "  }\n",
              "\n",
              "  .colab-df-quickchart {\n",
              "    background-color: var(--bg-color);\n",
              "    border: none;\n",
              "    border-radius: 50%;\n",
              "    cursor: pointer;\n",
              "    display: none;\n",
              "    fill: var(--fill-color);\n",
              "    height: 32px;\n",
              "    padding: 0;\n",
              "    width: 32px;\n",
              "  }\n",
              "\n",
              "  .colab-df-quickchart:hover {\n",
              "    background-color: var(--hover-bg-color);\n",
              "    box-shadow: 0 1px 2px rgba(60, 64, 67, 0.3), 0 1px 3px 1px rgba(60, 64, 67, 0.15);\n",
              "    fill: var(--button-hover-fill-color);\n",
              "  }\n",
              "\n",
              "  .colab-df-quickchart-complete:disabled,\n",
              "  .colab-df-quickchart-complete:disabled:hover {\n",
              "    background-color: var(--disabled-bg-color);\n",
              "    fill: var(--disabled-fill-color);\n",
              "    box-shadow: none;\n",
              "  }\n",
              "\n",
              "  .colab-df-spinner {\n",
              "    border: 2px solid var(--fill-color);\n",
              "    border-color: transparent;\n",
              "    border-bottom-color: var(--fill-color);\n",
              "    animation:\n",
              "      spin 1s steps(1) infinite;\n",
              "  }\n",
              "\n",
              "  @keyframes spin {\n",
              "    0% {\n",
              "      border-color: transparent;\n",
              "      border-bottom-color: var(--fill-color);\n",
              "      border-left-color: var(--fill-color);\n",
              "    }\n",
              "    20% {\n",
              "      border-color: transparent;\n",
              "      border-left-color: var(--fill-color);\n",
              "      border-top-color: var(--fill-color);\n",
              "    }\n",
              "    30% {\n",
              "      border-color: transparent;\n",
              "      border-left-color: var(--fill-color);\n",
              "      border-top-color: var(--fill-color);\n",
              "      border-right-color: var(--fill-color);\n",
              "    }\n",
              "    40% {\n",
              "      border-color: transparent;\n",
              "      border-right-color: var(--fill-color);\n",
              "      border-top-color: var(--fill-color);\n",
              "    }\n",
              "    60% {\n",
              "      border-color: transparent;\n",
              "      border-right-color: var(--fill-color);\n",
              "    }\n",
              "    80% {\n",
              "      border-color: transparent;\n",
              "      border-right-color: var(--fill-color);\n",
              "      border-bottom-color: var(--fill-color);\n",
              "    }\n",
              "    90% {\n",
              "      border-color: transparent;\n",
              "      border-bottom-color: var(--fill-color);\n",
              "    }\n",
              "  }\n",
              "</style>\n",
              "\n",
              "  <script>\n",
              "    async function quickchart(key) {\n",
              "      const quickchartButtonEl =\n",
              "        document.querySelector('#' + key + ' button');\n",
              "      quickchartButtonEl.disabled = true;  // To prevent multiple clicks.\n",
              "      quickchartButtonEl.classList.add('colab-df-spinner');\n",
              "      try {\n",
              "        const charts = await google.colab.kernel.invokeFunction(\n",
              "            'suggestCharts', [key], {});\n",
              "      } catch (error) {\n",
              "        console.error('Error during call to suggestCharts:', error);\n",
              "      }\n",
              "      quickchartButtonEl.classList.remove('colab-df-spinner');\n",
              "      quickchartButtonEl.classList.add('colab-df-quickchart-complete');\n",
              "    }\n",
              "    (() => {\n",
              "      let quickchartButtonEl =\n",
              "        document.querySelector('#df-59c614a6-97e5-4f3b-9b1c-9a480634a5dd button');\n",
              "      quickchartButtonEl.style.display =\n",
              "        google.colab.kernel.accessAllowed ? 'block' : 'none';\n",
              "    })();\n",
              "  </script>\n",
              "</div>\n",
              "\n",
              "    </div>\n",
              "  </div>\n"
            ],
            "application/vnd.google.colaboratory.intrinsic+json": {
              "type": "dataframe",
              "summary": "{\n  \"name\": \"pd\",\n  \"rows\": 10,\n  \"fields\": [\n    {\n      \"column\": \"mean_fit_time\",\n      \"properties\": {\n        \"dtype\": \"number\",\n        \"std\": 0.00018167878216103722,\n        \"min\": 0.0018137296040852864,\n        \"max\": 0.002419630686442057,\n        \"num_unique_values\": 10,\n        \"samples\": [\n          0.0018163522084554036,\n          0.0018737316131591797,\n          0.001926740010579427\n        ],\n        \"semantic_type\": \"\",\n        \"description\": \"\"\n      }\n    },\n    {\n      \"column\": \"std_fit_time\",\n      \"properties\": {\n        \"dtype\": \"number\",\n        \"std\": 0.00016585407794907263,\n        \"min\": 2.144294987238573e-05,\n        \"max\": 0.0005645140547301801,\n        \"num_unique_values\": 10,\n        \"samples\": [\n          4.3204592584840696e-05,\n          3.3954354968617915e-05,\n          0.00017169893848707643\n        ],\n        \"semantic_type\": \"\",\n        \"description\": \"\"\n      }\n    },\n    {\n      \"column\": \"mean_score_time\",\n      \"properties\": {\n        \"dtype\": \"number\",\n        \"std\": 0.0001724347505256982,\n        \"min\": 0.0026253064473470054,\n        \"max\": 0.0031544367472330728,\n        \"num_unique_values\": 10,\n        \"samples\": [\n          0.0028402010599772134,\n          0.0026253064473470054,\n          0.0027733643849690757\n        ],\n        \"semantic_type\": \"\",\n        \"description\": \"\"\n      }\n    },\n    {\n      \"column\": \"std_score_time\",\n      \"properties\": {\n        \"dtype\": \"number\",\n        \"std\": 6.24370728015957e-05,\n        \"min\": 0.00012357091816990644,\n        \"max\": 0.00032489243777063774,\n        \"num_unique_values\": 10,\n        \"samples\": [\n          0.000168780858829214,\n          0.00022332447696242933,\n          0.00016009310010586784\n        ],\n        \"semantic_type\": \"\",\n        \"description\": \"\"\n      }\n    },\n    {\n      \"column\": \"param_model__n_neighbors\",\n      \"properties\": {\n        \"dtype\": \"number\",\n        \"std\": 3,\n        \"min\": 1,\n        \"max\": 10,\n        \"num_unique_values\": 10,\n        \"samples\": [\n          9,\n          2,\n          6\n        ],\n        \"semantic_type\": \"\",\n        \"description\": \"\"\n      }\n    },\n    {\n      \"column\": \"params\",\n      \"properties\": {\n        \"dtype\": \"object\",\n        \"semantic_type\": \"\",\n        \"description\": \"\"\n      }\n    },\n    {\n      \"column\": \"split0_test_score\",\n      \"properties\": {\n        \"dtype\": \"number\",\n        \"std\": 0.12197029467196985,\n        \"min\": 0.22693328765696186,\n        \"max\": 0.6165100349409274,\n        \"num_unique_values\": 10,\n        \"samples\": [\n          0.5903520569813987,\n          0.358215977652358,\n          0.5336112934856703\n        ],\n        \"semantic_type\": \"\",\n        \"description\": \"\"\n      }\n    },\n    {\n      \"column\": \"split1_test_score\",\n      \"properties\": {\n        \"dtype\": \"number\",\n        \"std\": 0.033388728777148095,\n        \"min\": 0.3479507552298099,\n        \"max\": 0.47665059331972015,\n        \"num_unique_values\": 10,\n        \"samples\": [\n          0.4075561686658714,\n          0.40922862107583746,\n          0.38950367301649447\n        ],\n        \"semantic_type\": \"\",\n        \"description\": \"\"\n      }\n    },\n    {\n      \"column\": \"split2_test_score\",\n      \"properties\": {\n        \"dtype\": \"number\",\n        \"std\": 0.05864738560300478,\n        \"min\": 0.12763531149429952,\n        \"max\": 0.3185339679986803,\n        \"num_unique_values\": 10,\n        \"samples\": [\n          0.18525265897868315,\n          0.17229388051587924,\n          0.2484823189519727\n        ],\n        \"semantic_type\": \"\",\n        \"description\": \"\"\n      }\n    },\n    {\n      \"column\": \"mean_test_score\",\n      \"properties\": {\n        \"dtype\": \"number\",\n        \"std\": 0.0456884866267747,\n        \"min\": 0.2625223411832202,\n        \"max\": 0.4028999056899609,\n        \"num_unique_values\": 10,\n        \"samples\": [\n          0.39438696154198444,\n          0.3132461597480249,\n          0.3905324284847125\n        ],\n        \"semantic_type\": \"\",\n        \"description\": \"\"\n      }\n    },\n    {\n      \"column\": \"std_test_score\",\n      \"properties\": {\n        \"dtype\": \"number\",\n        \"std\": 0.03720423356728838,\n        \"min\": 0.06498579050392478,\n        \"max\": 0.1847407969077824,\n        \"num_unique_values\": 10,\n        \"samples\": [\n          0.16564309338201522,\n          0.10182085972535404,\n          0.11640568938850464\n        ],\n        \"semantic_type\": \"\",\n        \"description\": \"\"\n      }\n    },\n    {\n      \"column\": \"rank_test_score\",\n      \"properties\": {\n        \"dtype\": \"int32\",\n        \"num_unique_values\": 10,\n        \"samples\": [\n          3,\n          9,\n          6\n        ],\n        \"semantic_type\": \"\",\n        \"description\": \"\"\n      }\n    }\n  ]\n}"
            }
          },
          "metadata": {},
          "execution_count": 18
        }
      ],
      "source": [
        "pd.DataFrame(mod.cv_results_)"
      ]
    },
    {
      "cell_type": "markdown",
      "id": "increased-salem",
      "metadata": {
        "id": "increased-salem"
      },
      "source": [
        "Finally, lets remember that we should look at the data."
      ]
    },
    {
      "cell_type": "code",
      "execution_count": null,
      "id": "hazardous-income",
      "metadata": {
        "colab": {
          "base_uri": "https://localhost:8080/",
          "height": 143
        },
        "id": "hazardous-income",
        "outputId": "f55c3a79-16b0-47ae-bfc3-22028aadd7d7"
      },
      "outputs": [
        {
          "output_type": "error",
          "ename": "NameError",
          "evalue": "name 'load_boston' is not defined",
          "traceback": [
            "\u001b[0;31m---------------------------------------------------------------------------\u001b[0m",
            "\u001b[0;31mNameError\u001b[0m                                 Traceback (most recent call last)",
            "\u001b[0;32m<ipython-input-19-1bd0557028c9>\u001b[0m in \u001b[0;36m<cell line: 0>\u001b[0;34m()\u001b[0m\n\u001b[0;32m----> 1\u001b[0;31m \u001b[0mprint\u001b[0m\u001b[0;34m(\u001b[0m\u001b[0mload_boston\u001b[0m\u001b[0;34m(\u001b[0m\u001b[0;34m)\u001b[0m\u001b[0;34m[\u001b[0m\u001b[0;34m'DESCR'\u001b[0m\u001b[0;34m]\u001b[0m\u001b[0;34m)\u001b[0m\u001b[0;34m\u001b[0m\u001b[0;34m\u001b[0m\u001b[0m\n\u001b[0m",
            "\u001b[0;31mNameError\u001b[0m: name 'load_boston' is not defined"
          ]
        }
      ],
      "source": [
        "# Das funktioniert nicht mehr, da wir den Datensatz anders geladen haben und dieser nicht mehr in scikit-learn integriert ist (siehe oben)\n",
        "print(load_boston()['DESCR'])"
      ]
    }
  ],
  "metadata": {
    "kernelspec": {
      "display_name": "Python 3 (ipykernel)",
      "language": "python",
      "name": "python3"
    },
    "language_info": {
      "codemirror_mode": {
        "name": "ipython",
        "version": 3
      },
      "file_extension": ".py",
      "mimetype": "text/x-python",
      "name": "python",
      "nbconvert_exporter": "python",
      "pygments_lexer": "ipython3",
      "version": "3.9.13"
    },
    "colab": {
      "provenance": []
    }
  },
  "nbformat": 4,
  "nbformat_minor": 5
}