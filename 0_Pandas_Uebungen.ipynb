{
 "cells": [
  {
   "cell_type": "markdown",
   "id": "c25a7a28",
   "metadata": {},
   "source": [
    "# Setup"
   ]
  },
  {
   "cell_type": "markdown",
   "id": "2ef02965",
   "metadata": {},
   "source": [
    "Importieren Sie die benötigten Pakete (das wird ein eher iteratives Vorgehen sein, sollten Sie weitere Pakete nutzen)"
   ]
  },
  {
   "cell_type": "code",
   "execution_count": 1,
   "id": "c5ac531f",
   "metadata": {},
   "outputs": [],
   "source": [
    "import pandas as pd"
   ]
  },
  {
   "cell_type": "markdown",
   "id": "92fc02ff",
   "metadata": {},
   "source": [
    "Unter folgendem Link finden Sie auch die Dokumentation von pandas. Hier sollten Sie (fast) alle Inforamtionen finden, die zur Lösung der Aufgaben benötigt werden. https://pandas.pydata.org/\n",
    "\n",
    "Anderenfalls empfiehlt sich die Nutzung einer Suchmaschine. "
   ]
  },
  {
   "cell_type": "markdown",
   "id": "d98f807b",
   "metadata": {},
   "source": [
    "# Laden und Sichten der Daten"
   ]
  },
  {
   "cell_type": "markdown",
   "id": "c2ac7586",
   "metadata": {},
   "source": [
    "Lesen Sie die Datei \"rewe_products.csv\" ein. "
   ]
  },
  {
   "cell_type": "code",
   "execution_count": 2,
   "id": "e32acb4d",
   "metadata": {},
   "outputs": [],
   "source": [
    "rewe = pd.read_csv(\"Data/rewe_products.csv\")"
   ]
  },
  {
   "cell_type": "code",
   "execution_count": 3,
   "id": "47faf0ae",
   "metadata": {},
   "outputs": [
    {
     "data": {
      "text/html": [
       "<div>\n",
       "<style scoped>\n",
       "    .dataframe tbody tr th:only-of-type {\n",
       "        vertical-align: middle;\n",
       "    }\n",
       "\n",
       "    .dataframe tbody tr th {\n",
       "        vertical-align: top;\n",
       "    }\n",
       "\n",
       "    .dataframe thead th {\n",
       "        text-align: right;\n",
       "    }\n",
       "</style>\n",
       "<table border=\"1\" class=\"dataframe\">\n",
       "  <thead>\n",
       "    <tr style=\"text-align: right;\">\n",
       "      <th></th>\n",
       "      <th>productId</th>\n",
       "      <th>gtin</th>\n",
       "      <th>productName</th>\n",
       "      <th>productDescription</th>\n",
       "      <th>bio</th>\n",
       "      <th>vegan</th>\n",
       "      <th>vegetarian</th>\n",
       "      <th>allergenStatement</th>\n",
       "      <th>ingredientStatement</th>\n",
       "      <th>manufacturerName</th>\n",
       "      <th>...</th>\n",
       "      <th>energyInKcal</th>\n",
       "      <th>fatInGram</th>\n",
       "      <th>fatSatInGram</th>\n",
       "      <th>proteinInGram</th>\n",
       "      <th>carbsInGram</th>\n",
       "      <th>sugarInGram</th>\n",
       "      <th>saltInGram</th>\n",
       "      <th>productCategory</th>\n",
       "      <th>productSubCategory</th>\n",
       "      <th>productType</th>\n",
       "    </tr>\n",
       "  </thead>\n",
       "  <tbody>\n",
       "    <tr>\n",
       "      <th>0</th>\n",
       "      <td>483303</td>\n",
       "      <td>8436000259209</td>\n",
       "      <td>Salatgurke</td>\n",
       "      <td>Deutschland Niederlande Spanien Griechenland o...</td>\n",
       "      <td>False</td>\n",
       "      <td>NaN</td>\n",
       "      <td>NaN</td>\n",
       "      <td>NaN</td>\n",
       "      <td>NaN</td>\n",
       "      <td>NaN</td>\n",
       "      <td>...</td>\n",
       "      <td>NaN</td>\n",
       "      <td>NaN</td>\n",
       "      <td>NaN</td>\n",
       "      <td>NaN</td>\n",
       "      <td>NaN</td>\n",
       "      <td>NaN</td>\n",
       "      <td>NaN</td>\n",
       "      <td>Obst und Gemüse</td>\n",
       "      <td>Gemüse</td>\n",
       "      <td>Gurken</td>\n",
       "    </tr>\n",
       "    <tr>\n",
       "      <th>1</th>\n",
       "      <td>1028378</td>\n",
       "      <td>22590541</td>\n",
       "      <td>REWE Beste Wahl Bananen</td>\n",
       "      <td>Kl: M; Ursprungsland und Klasse können je nach...</td>\n",
       "      <td>False</td>\n",
       "      <td>NaN</td>\n",
       "      <td>NaN</td>\n",
       "      <td>NaN</td>\n",
       "      <td>NaN</td>\n",
       "      <td>NaN</td>\n",
       "      <td>...</td>\n",
       "      <td>NaN</td>\n",
       "      <td>NaN</td>\n",
       "      <td>NaN</td>\n",
       "      <td>NaN</td>\n",
       "      <td>NaN</td>\n",
       "      <td>NaN</td>\n",
       "      <td>NaN</td>\n",
       "      <td>Obst und Gemüse</td>\n",
       "      <td>Obst</td>\n",
       "      <td>Bananen</td>\n",
       "    </tr>\n",
       "    <tr>\n",
       "      <th>2</th>\n",
       "      <td>3070776</td>\n",
       "      <td>4388844268579</td>\n",
       "      <td>ja! H-Milch 15% 1l</td>\n",
       "      <td>H-fettarme Milch 15% Fett ultrahocherhitzt hom...</td>\n",
       "      <td>False</td>\n",
       "      <td>NaN</td>\n",
       "      <td>NaN</td>\n",
       "      <td>NaN</td>\n",
       "      <td>NaN</td>\n",
       "      <td>NaN</td>\n",
       "      <td>...</td>\n",
       "      <td>47.0</td>\n",
       "      <td>1.5</td>\n",
       "      <td>1.1</td>\n",
       "      <td>3.5</td>\n",
       "      <td>4.9</td>\n",
       "      <td>4.9</td>\n",
       "      <td>0.130</td>\n",
       "      <td>Frische und Kühlung</td>\n",
       "      <td>Milch und Milchersatz</td>\n",
       "      <td>H-Milch</td>\n",
       "    </tr>\n",
       "    <tr>\n",
       "      <th>3</th>\n",
       "      <td>1105044</td>\n",
       "      <td>8437016531006</td>\n",
       "      <td>Tafeltrauben hell kernlos 500g</td>\n",
       "      <td>Italien oder Griechenland; Kl: I; Ursprungslan...</td>\n",
       "      <td>False</td>\n",
       "      <td>NaN</td>\n",
       "      <td>NaN</td>\n",
       "      <td>NaN</td>\n",
       "      <td>NaN</td>\n",
       "      <td>NaN</td>\n",
       "      <td>...</td>\n",
       "      <td>NaN</td>\n",
       "      <td>NaN</td>\n",
       "      <td>NaN</td>\n",
       "      <td>NaN</td>\n",
       "      <td>NaN</td>\n",
       "      <td>NaN</td>\n",
       "      <td>NaN</td>\n",
       "      <td>Obst und Gemüse</td>\n",
       "      <td>Obst</td>\n",
       "      <td>Trauben</td>\n",
       "    </tr>\n",
       "    <tr>\n",
       "      <th>4</th>\n",
       "      <td>5883121</td>\n",
       "      <td>4388840216895</td>\n",
       "      <td>ja! Markenbutter 250g</td>\n",
       "      <td>Deutsche Markenbutter 250gr JA</td>\n",
       "      <td>False</td>\n",
       "      <td>NaN</td>\n",
       "      <td>NaN</td>\n",
       "      <td>NaN</td>\n",
       "      <td>NaN</td>\n",
       "      <td>NaN</td>\n",
       "      <td>...</td>\n",
       "      <td>743.0</td>\n",
       "      <td>82.0</td>\n",
       "      <td>52.0</td>\n",
       "      <td>0.7</td>\n",
       "      <td>0.6</td>\n",
       "      <td>0.6</td>\n",
       "      <td>0.010</td>\n",
       "      <td>Frische und Kühlung</td>\n",
       "      <td>Eier, Fett und Molkereiprodukte</td>\n",
       "      <td>Margarine, Butter und Fett</td>\n",
       "    </tr>\n",
       "    <tr>\n",
       "      <th>...</th>\n",
       "      <td>...</td>\n",
       "      <td>...</td>\n",
       "      <td>...</td>\n",
       "      <td>...</td>\n",
       "      <td>...</td>\n",
       "      <td>...</td>\n",
       "      <td>...</td>\n",
       "      <td>...</td>\n",
       "      <td>...</td>\n",
       "      <td>...</td>\n",
       "      <td>...</td>\n",
       "      <td>...</td>\n",
       "      <td>...</td>\n",
       "      <td>...</td>\n",
       "      <td>...</td>\n",
       "      <td>...</td>\n",
       "      <td>...</td>\n",
       "      <td>...</td>\n",
       "      <td>...</td>\n",
       "      <td>...</td>\n",
       "      <td>...</td>\n",
       "    </tr>\n",
       "    <tr>\n",
       "      <th>9433</th>\n",
       "      <td>2577258</td>\n",
       "      <td>4003586006851</td>\n",
       "      <td>Funny-frisch Chipsfrisch ungarisch 4x50g</td>\n",
       "      <td>CF ungarisch 4x50g Multipack</td>\n",
       "      <td>False</td>\n",
       "      <td>NaN</td>\n",
       "      <td>NaN</td>\n",
       "      <td>NaN</td>\n",
       "      <td>Kartoffeln Sonnenblumenöl Aroma Speisesalz Hef...</td>\n",
       "      <td>NaN</td>\n",
       "      <td>...</td>\n",
       "      <td>530.0</td>\n",
       "      <td>33.0</td>\n",
       "      <td>3.0</td>\n",
       "      <td>6.1</td>\n",
       "      <td>49.0</td>\n",
       "      <td>2.5</td>\n",
       "      <td>1.600</td>\n",
       "      <td>Süßes und Salziges</td>\n",
       "      <td>Chips und Knabbereien</td>\n",
       "      <td>Chips und Flips</td>\n",
       "    </tr>\n",
       "    <tr>\n",
       "      <th>9434</th>\n",
       "      <td>2605557</td>\n",
       "      <td>4005900274786</td>\n",
       "      <td>Nivea Men Deo-Spray Invisible Black and White ...</td>\n",
       "      <td>NIVEA MEN DEO SPRAY INV BW 150ML</td>\n",
       "      <td>False</td>\n",
       "      <td>NaN</td>\n",
       "      <td>NaN</td>\n",
       "      <td>NaN</td>\n",
       "      <td>NaN</td>\n",
       "      <td>NaN</td>\n",
       "      <td>...</td>\n",
       "      <td>NaN</td>\n",
       "      <td>NaN</td>\n",
       "      <td>NaN</td>\n",
       "      <td>NaN</td>\n",
       "      <td>NaN</td>\n",
       "      <td>NaN</td>\n",
       "      <td>NaN</td>\n",
       "      <td>Drogerie und Kosmetik</td>\n",
       "      <td>Körperpflege und -reinigung</td>\n",
       "      <td>Deodorants</td>\n",
       "    </tr>\n",
       "    <tr>\n",
       "      <th>9435</th>\n",
       "      <td>2254641</td>\n",
       "      <td>4260178730116</td>\n",
       "      <td>Proviant Zitronenlimonade naturtrüb 033l</td>\n",
       "      <td>ZitronenlimonadeKontaktname: Proviant Fruchtma...</td>\n",
       "      <td>True</td>\n",
       "      <td>NaN</td>\n",
       "      <td>NaN</td>\n",
       "      <td>NaN</td>\n",
       "      <td>Wasser Bio-Zitronensaft (10%) Bio-Rohrzucker K...</td>\n",
       "      <td>NaN</td>\n",
       "      <td>...</td>\n",
       "      <td>31.0</td>\n",
       "      <td>0.1</td>\n",
       "      <td>0.1</td>\n",
       "      <td>0.1</td>\n",
       "      <td>7.5</td>\n",
       "      <td>7.5</td>\n",
       "      <td>0.003</td>\n",
       "      <td>Getränke</td>\n",
       "      <td>Soft Drinks</td>\n",
       "      <td>Cola und Limonaden</td>\n",
       "    </tr>\n",
       "    <tr>\n",
       "      <th>9436</th>\n",
       "      <td>2279508</td>\n",
       "      <td>4008467007859</td>\n",
       "      <td>Costa Tintenfisch Tuben 400g</td>\n",
       "      <td>Tintenfischtuben 400g</td>\n",
       "      <td>False</td>\n",
       "      <td>NaN</td>\n",
       "      <td>NaN</td>\n",
       "      <td>Enthält WEICHTIERE Kann Spuren von FISCH entha...</td>\n",
       "      <td>TINTENFISCH (85%) Wasser Säureregulator (Natri...</td>\n",
       "      <td>NaN</td>\n",
       "      <td>...</td>\n",
       "      <td>47.0</td>\n",
       "      <td>0.9</td>\n",
       "      <td>0.7</td>\n",
       "      <td>9.6</td>\n",
       "      <td>0.0</td>\n",
       "      <td>0.0</td>\n",
       "      <td>1.530</td>\n",
       "      <td>Tiefkühl</td>\n",
       "      <td>Fisch, Fleisch und Geflügel</td>\n",
       "      <td>Meeresfrüchte</td>\n",
       "    </tr>\n",
       "    <tr>\n",
       "      <th>9437</th>\n",
       "      <td>2379496</td>\n",
       "      <td>4014400920383</td>\n",
       "      <td>nimm2 Lachgummi Shakies 225g</td>\n",
       "      <td>n2 LG Shakies 1x225g</td>\n",
       "      <td>False</td>\n",
       "      <td>NaN</td>\n",
       "      <td>NaN</td>\n",
       "      <td>NaN</td>\n",
       "      <td>Glukosesirup Zucker Feuchthaltemittel Sorbitsi...</td>\n",
       "      <td>NaN</td>\n",
       "      <td>...</td>\n",
       "      <td>323.0</td>\n",
       "      <td>0.2</td>\n",
       "      <td>0.2</td>\n",
       "      <td>5.8</td>\n",
       "      <td>75.0</td>\n",
       "      <td>49.9</td>\n",
       "      <td>0.260</td>\n",
       "      <td>Süßes und Salziges</td>\n",
       "      <td>Süßwaren</td>\n",
       "      <td>Fruchtgummi und Lakritz</td>\n",
       "    </tr>\n",
       "  </tbody>\n",
       "</table>\n",
       "<p>9438 rows × 28 columns</p>\n",
       "</div>"
      ],
      "text/plain": [
       "      productId           gtin  \\\n",
       "0        483303  8436000259209   \n",
       "1       1028378       22590541   \n",
       "2       3070776  4388844268579   \n",
       "3       1105044  8437016531006   \n",
       "4       5883121  4388840216895   \n",
       "...         ...            ...   \n",
       "9433    2577258  4003586006851   \n",
       "9434    2605557  4005900274786   \n",
       "9435    2254641  4260178730116   \n",
       "9436    2279508  4008467007859   \n",
       "9437    2379496  4014400920383   \n",
       "\n",
       "                                            productName  \\\n",
       "0                                            Salatgurke   \n",
       "1                               REWE Beste Wahl Bananen   \n",
       "2                                    ja! H-Milch 15% 1l   \n",
       "3                        Tafeltrauben hell kernlos 500g   \n",
       "4                                 ja! Markenbutter 250g   \n",
       "...                                                 ...   \n",
       "9433           Funny-frisch Chipsfrisch ungarisch 4x50g   \n",
       "9434  Nivea Men Deo-Spray Invisible Black and White ...   \n",
       "9435           Proviant Zitronenlimonade naturtrüb 033l   \n",
       "9436                       Costa Tintenfisch Tuben 400g   \n",
       "9437                       nimm2 Lachgummi Shakies 225g   \n",
       "\n",
       "                                     productDescription    bio vegan  \\\n",
       "0     Deutschland Niederlande Spanien Griechenland o...  False   NaN   \n",
       "1     Kl: M; Ursprungsland und Klasse können je nach...  False   NaN   \n",
       "2     H-fettarme Milch 15% Fett ultrahocherhitzt hom...  False   NaN   \n",
       "3     Italien oder Griechenland; Kl: I; Ursprungslan...  False   NaN   \n",
       "4                        Deutsche Markenbutter 250gr JA  False   NaN   \n",
       "...                                                 ...    ...   ...   \n",
       "9433                       CF ungarisch 4x50g Multipack  False   NaN   \n",
       "9434                   NIVEA MEN DEO SPRAY INV BW 150ML  False   NaN   \n",
       "9435  ZitronenlimonadeKontaktname: Proviant Fruchtma...   True   NaN   \n",
       "9436                              Tintenfischtuben 400g  False   NaN   \n",
       "9437                               n2 LG Shakies 1x225g  False   NaN   \n",
       "\n",
       "     vegetarian                                  allergenStatement  \\\n",
       "0           NaN                                                NaN   \n",
       "1           NaN                                                NaN   \n",
       "2           NaN                                                NaN   \n",
       "3           NaN                                                NaN   \n",
       "4           NaN                                                NaN   \n",
       "...         ...                                                ...   \n",
       "9433        NaN                                                NaN   \n",
       "9434        NaN                                                NaN   \n",
       "9435        NaN                                                NaN   \n",
       "9436        NaN  Enthält WEICHTIERE Kann Spuren von FISCH entha...   \n",
       "9437        NaN                                                NaN   \n",
       "\n",
       "                                    ingredientStatement  manufacturerName  \\\n",
       "0                                                   NaN               NaN   \n",
       "1                                                   NaN               NaN   \n",
       "2                                                   NaN               NaN   \n",
       "3                                                   NaN               NaN   \n",
       "4                                                   NaN               NaN   \n",
       "...                                                 ...               ...   \n",
       "9433  Kartoffeln Sonnenblumenöl Aroma Speisesalz Hef...               NaN   \n",
       "9434                                                NaN               NaN   \n",
       "9435  Wasser Bio-Zitronensaft (10%) Bio-Rohrzucker K...               NaN   \n",
       "9436  TINTENFISCH (85%) Wasser Säureregulator (Natri...               NaN   \n",
       "9437  Glukosesirup Zucker Feuchthaltemittel Sorbitsi...               NaN   \n",
       "\n",
       "      ... energyInKcal fatInGram fatSatInGram  proteinInGram carbsInGram  \\\n",
       "0     ...          NaN       NaN          NaN            NaN         NaN   \n",
       "1     ...          NaN       NaN          NaN            NaN         NaN   \n",
       "2     ...         47.0       1.5          1.1            3.5         4.9   \n",
       "3     ...          NaN       NaN          NaN            NaN         NaN   \n",
       "4     ...        743.0      82.0         52.0            0.7         0.6   \n",
       "...   ...          ...       ...          ...            ...         ...   \n",
       "9433  ...        530.0      33.0          3.0            6.1        49.0   \n",
       "9434  ...          NaN       NaN          NaN            NaN         NaN   \n",
       "9435  ...         31.0       0.1          0.1            0.1         7.5   \n",
       "9436  ...         47.0       0.9          0.7            9.6         0.0   \n",
       "9437  ...        323.0       0.2          0.2            5.8        75.0   \n",
       "\n",
       "     sugarInGram  saltInGram        productCategory  \\\n",
       "0            NaN         NaN        Obst und Gemüse   \n",
       "1            NaN         NaN        Obst und Gemüse   \n",
       "2            4.9       0.130    Frische und Kühlung   \n",
       "3            NaN         NaN        Obst und Gemüse   \n",
       "4            0.6       0.010    Frische und Kühlung   \n",
       "...          ...         ...                    ...   \n",
       "9433         2.5       1.600     Süßes und Salziges   \n",
       "9434         NaN         NaN  Drogerie und Kosmetik   \n",
       "9435         7.5       0.003               Getränke   \n",
       "9436         0.0       1.530               Tiefkühl   \n",
       "9437        49.9       0.260     Süßes und Salziges   \n",
       "\n",
       "                   productSubCategory                 productType  \n",
       "0                              Gemüse                      Gurken  \n",
       "1                                Obst                     Bananen  \n",
       "2               Milch und Milchersatz                     H-Milch  \n",
       "3                                Obst                     Trauben  \n",
       "4     Eier, Fett und Molkereiprodukte  Margarine, Butter und Fett  \n",
       "...                               ...                         ...  \n",
       "9433            Chips und Knabbereien             Chips und Flips  \n",
       "9434      Körperpflege und -reinigung                  Deodorants  \n",
       "9435                      Soft Drinks          Cola und Limonaden  \n",
       "9436      Fisch, Fleisch und Geflügel               Meeresfrüchte  \n",
       "9437                         Süßwaren     Fruchtgummi und Lakritz  \n",
       "\n",
       "[9438 rows x 28 columns]"
      ]
     },
     "execution_count": 3,
     "metadata": {},
     "output_type": "execute_result"
    }
   ],
   "source": [
    "rewe"
   ]
  },
  {
   "cell_type": "markdown",
   "id": "ded0f9ca",
   "metadata": {},
   "source": [
    "Wie viele Spalten und Zeilen sind im Datensatz vorhanden?"
   ]
  },
  {
   "cell_type": "markdown",
   "id": "0782e412",
   "metadata": {},
   "source": [
    "Werfen Sie einen ersten Blick in die Daten."
   ]
  },
  {
   "cell_type": "markdown",
   "id": "ee066fe2",
   "metadata": {},
   "source": [
    "Lassen Sie sich die ersten 20 Produktnamen ausgeben. "
   ]
  },
  {
   "cell_type": "markdown",
   "id": "89a6599b",
   "metadata": {},
   "source": [
    "Geben Sie die ersten 30 Hersteller (manufacturerName) aus. Was fällt Ihnen auf? Wie gehen Sie damit um?"
   ]
  },
  {
   "cell_type": "markdown",
   "id": "a6afc643",
   "metadata": {},
   "source": [
    "# Eine Teilmenge aus einem Dataset auswählen"
   ]
  },
  {
   "cell_type": "markdown",
   "id": "c0e68ceb",
   "metadata": {},
   "source": [
    "Zeigen Sie nur den Produktnamen und die Produktkategorie an. Es reichen die ersten Einträge."
   ]
  },
  {
   "cell_type": "markdown",
   "id": "77a0cb66",
   "metadata": {},
   "source": [
    "Welche Biersorten werden angeboten?"
   ]
  },
  {
   "cell_type": "markdown",
   "id": "a9e0c73a",
   "metadata": {},
   "source": [
    "Geben Sie alle Einträge aus, die Obst oder Gemüse sind. Nutzen Sie hierzu das Merkmal productSubCategory."
   ]
  },
  {
   "cell_type": "markdown",
   "id": "75a47c16",
   "metadata": {},
   "source": [
    "Geben Sie nur die Daten aus, für die das Herkunftsland bekannt ist. "
   ]
  },
  {
   "cell_type": "markdown",
   "id": "6fe9a897",
   "metadata": {},
   "source": [
    "Geben Sie nur die Produktnamen für die Biere aus. "
   ]
  },
  {
   "cell_type": "markdown",
   "id": "f872e0be",
   "metadata": {},
   "source": [
    "Geben Sie zusätzlich zum Produktnamen der Biere das Herkunftsland aus."
   ]
  },
  {
   "cell_type": "markdown",
   "id": "add34072",
   "metadata": {},
   "source": [
    "Finden Sie alle veganen Bioprodukte. "
   ]
  },
  {
   "cell_type": "markdown",
   "id": "22068040",
   "metadata": {},
   "source": [
    "Geben Sie die Zeilen 4-6 und Spalten 8-10 aus. "
   ]
  },
  {
   "cell_type": "markdown",
   "id": "548b1b7f",
   "metadata": {},
   "source": [
    "Nennen Sie alle NaN-Angaben der Herkunftsländer um in \"unbekannt\"."
   ]
  },
  {
   "cell_type": "markdown",
   "id": "e785401b",
   "metadata": {},
   "source": [
    "Können Sie eine Liste aller verschiedenen Länder anzeigen? Schauen Sie, welche Funktion der Datentyp *Series* dafür anbietet. "
   ]
  },
  {
   "cell_type": "code",
   "execution_count": null,
   "id": "4b71aadb",
   "metadata": {},
   "outputs": [],
   "source": [
    "Finden Sie alle Produkte aus Deutschland und zeigen Sie nur den Produktnamen und das Herkunftsland an. "
   ]
  },
  {
   "cell_type": "markdown",
   "id": "6d1d7f9e",
   "metadata": {},
   "source": [
    "Finden Sie alle Rotweine unter 2 Euro. Zeigen Sie nur den Produktnamen und den Preis an. Sortieren Sie nach dem Preis und zeigen die die günstigsten Weine zuerst an. "
   ]
  },
  {
   "cell_type": "markdown",
   "id": "ee83aa56",
   "metadata": {},
   "source": [
    "Finden Sie alle Produkte, die das Allergen Soja enthalten. Schauen Sie, welche Funktionen die Klasse *Series* hierzu bereitstellt. Müssen Sie die Daten vorverarbeiten? Auch hierzu werden Sie in der Klasse *Series* fündig. "
   ]
  },
  {
   "cell_type": "markdown",
   "id": "6bf5383e",
   "metadata": {},
   "source": [
    "Zeigen sie alle Spalten an, die 'Gram' enthalten. (Hinweis: verwenden Sie die Methode *filter()*)."
   ]
  },
  {
   "cell_type": "markdown",
   "id": "c852538e",
   "metadata": {},
   "source": [
    "Geben Sie die 5 Produkte mit dem höchsten Fettgehalt aus. "
   ]
  },
  {
   "cell_type": "markdown",
   "id": "6cc44bda",
   "metadata": {},
   "source": [
    "# Neue Spalten berechnen"
   ]
  },
  {
   "cell_type": "markdown",
   "id": "9652c68e",
   "metadata": {},
   "source": [
    "Erstellen Sie eine neue Spalte, die den prozentualen Fett-Anteil ohne Nachkommastellen ausgibt (gerundet). Nachkommastellen dürfen weiterhin angezeigt werden, müssen aber 0 sein.  "
   ]
  },
  {
   "cell_type": "markdown",
   "id": "375ab4bc",
   "metadata": {},
   "source": [
    "Erstellen Sie eine Spalte 'forein_bio', die TRUE enthalten soll, wenn das Produkt ein Bioprodukt ist und gleichzeitig nicht aus Deutschland stammt."
   ]
  },
  {
   "cell_type": "markdown",
   "id": "5a27775f",
   "metadata": {},
   "source": [
    "Fassen Sie die Merkmale vegan und vegetarian sinnvoll zusammen. Was sagen Sie zur Datenqualität der beiden Spalten?"
   ]
  },
  {
   "cell_type": "markdown",
   "id": "37d6a746",
   "metadata": {},
   "source": [
    "Berechnen Sie, ob ein Produkt mehr als 90% Fett enthält und speichern diese Information auf einer neuen Spalte high_fat. Zeigen Sie zur Überprüfung nur Zeilen an, bei denen der Wert TRUE ist. Die neue Spalte soll vor der Spalte productDescription eingefügt werden."
   ]
  },
  {
   "cell_type": "markdown",
   "id": "73f4efc2",
   "metadata": {},
   "source": [
    "Erstellen Sie eine neue Spalte sum_nutrition, in der ihr die Summe aller Nährwertangaben bildet. Belassen Sie im Ergebnis nur die neue Summenspalte und die einzelnen Nährwertspalten."
   ]
  },
  {
   "cell_type": "markdown",
   "id": "756c6396",
   "metadata": {},
   "source": [
    "# Daten zusammenfassen"
   ]
  },
  {
   "cell_type": "markdown",
   "id": "9d5bec72",
   "metadata": {},
   "source": [
    "Geben Sie den durchschnittlichen Preis aller Produkte aus. "
   ]
  },
  {
   "cell_type": "markdown",
   "id": "2199fd21",
   "metadata": {},
   "source": [
    "Geben Sie den durchschnittlichen Preis und den durchschnittlichen Fettanteil aus. "
   ]
  },
  {
   "cell_type": "markdown",
   "id": "16f0edc2",
   "metadata": {},
   "source": [
    "Geben Sie zusätzlich zu den Mittelwerten auch den maximalen Preis und den minimalen Fettgehalt aus."
   ]
  },
  {
   "cell_type": "markdown",
   "id": "5a390252",
   "metadata": {},
   "source": [
    "Geben Sie den durchschnittlichen Preis pro Produktkatgorie aus. "
   ]
  },
  {
   "cell_type": "markdown",
   "id": "9306ffd9",
   "metadata": {},
   "source": [
    "Geben Sie den durchschnittlichen Preis und den durchschnittlichen Fettgehalt pro Produktkatgorie aus."
   ]
  },
  {
   "cell_type": "markdown",
   "id": "84114519",
   "metadata": {},
   "source": [
    "Geben Sie zusätzlich zu den Mittelwerten der Produktkategorien auch den maximalen Preis und den minimalen Fettgehalt pro Produktkategorie aus."
   ]
  },
  {
   "cell_type": "markdown",
   "id": "b5cf8bf2",
   "metadata": {},
   "source": [
    "Geben Sie die fünf Produktkategorien mit dem höchsten durchschnittlichen Fettgehalt an. "
   ]
  },
  {
   "cell_type": "markdown",
   "id": "d0442bd9",
   "metadata": {},
   "source": [
    "Gibt es doppelte Produktnamen? Hinweis: Schauen Sie wieder bei *Series*... Geben Sie die Anzahl an unterschiedlichen Produktnamen an. "
   ]
  },
  {
   "cell_type": "markdown",
   "id": "8b198a5d",
   "metadata": {},
   "source": [
    "Wie viele *verschiedene* Produkte gibt es pro Produktkategorie?"
   ]
  },
  {
   "cell_type": "markdown",
   "id": "6db30f92",
   "metadata": {},
   "source": [
    "Geben Sie pro Produktkategorie die Anzahl der verschiedenen Produkte und den durchschnittlichen Verkaufspreis mit an. "
   ]
  },
  {
   "cell_type": "markdown",
   "id": "d87e39ce",
   "metadata": {},
   "source": [
    "# Konvertierung"
   ]
  },
  {
   "cell_type": "markdown",
   "id": "0d9355fb",
   "metadata": {},
   "source": [
    "Konvertieren Sie die Spalten productId und gtin in Strings. "
   ]
  }
 ],
 "metadata": {
  "kernelspec": {
   "display_name": "Python 3 (ipykernel)",
   "language": "python",
   "name": "python3"
  },
  "language_info": {
   "codemirror_mode": {
    "name": "ipython",
    "version": 3
   },
   "file_extension": ".py",
   "mimetype": "text/x-python",
   "name": "python",
   "nbconvert_exporter": "python",
   "pygments_lexer": "ipython3",
   "version": "3.9.13"
  }
 },
 "nbformat": 4,
 "nbformat_minor": 5
}
